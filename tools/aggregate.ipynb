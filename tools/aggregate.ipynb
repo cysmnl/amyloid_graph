{
 "cells": [
  {
   "cell_type": "code",
   "execution_count": 1,
   "metadata": {
    "collapsed": true
   },
   "outputs": [],
   "source": [
    "import os, sys\n",
    "sys.path.insert(0,'../lib/')\n",
    "import utils"
   ]
  },
  {
   "cell_type": "code",
   "execution_count": 2,
   "metadata": {},
   "outputs": [
    {
     "name": "stdout",
     "output_type": "stream",
     "text": [
      "Unique AV45-PET RIDs: 1105 \n",
      "\n",
      "DX info for RID 2314 not found \n",
      "\n",
      "No DX within 90 days found for 13 RIDs: [2070, 2133, 2155, 2168, 2184, 2187, 2194, 2315, 2316, 2403, 4553, 5032, 5295] \n",
      "\n",
      "Healthy:286, MCI:449, AD:146 \n",
      "\n",
      "No ADAS within 90 days found for 17 RIDs: [4001, 4076, 4086, 4104, 4157, 4202, 4340, 4464, 4540, 4784, 4903, 4958, 4982, 5006, 5023, 5146, 5278] \n",
      "\n",
      "No CDR within 90 days found for 63 RIDs: [2057, 2130, 2138, 2146, 2151, 2153, 2171, 2180, 2190, 2191, 2247, 2357, 2376, 2380, 4036, 4039, 4164, 4205, 4232, 4243, 4279, 4345, 4379, 4381, 4408, 4433, 4480, 4498, 4524, 4538, 4571, 4579, 4583, 4585, 4586, 4587, 4624, 4632, 4636, 4661, 4688, 4791, 4795, 4858, 4899, 4990, 5007, 5016, 5031, 5075, 5090, 5091, 5096, 5106, 5158, 5170, 5218, 5240, 5241, 5250, 5251, 5282, 5285] \n",
      "\n",
      "No MMSE within 90 days found for 6 RIDs: [2263, 4035, 4066, 4192, 4291, 5057] \n",
      "\n",
      "No MEM & EF within 90 days found for 0 RIDs: [] \n",
      "\n",
      "Genetic info for 3 RIDs not found: [4085, 4740, 4963] \n",
      "\n",
      "No ROIs within 90 days found for 65 RIDs: [2007, 2026, 2213, 2390, 2396, 4009, 4020, 4022, 4026, 4089, 4122, 4136, 4138, 4215, 4282, 4290, 4299, 4327, 4338, 4376, 4403, 4469, 4559, 4616, 4630, 4659, 4694, 4719, 4732, 4737, 4744, 4792, 4793, 4801, 4843, 4844, 4859, 4896, 4897, 4911, 4922, 4924, 4943, 4966, 4980, 4994, 5000, 5005, 5066, 5067, 5112, 5120, 5121, 5124, 5135, 5194, 5197, 5209, 5212, 5224, 5231, 5237, 5263, 5275, 5287] \n",
      "\n",
      "HC:229, MCI:356, AD:93\n"
     ]
    }
   ],
   "source": [
    "data = utils.av45('../adni/UCBERKELEYAV45_11_14_17.csv')\n",
    "data = utils.dx(data, '../adni/DXSUM_PDXCONV_ADNIALL.csv', 90)\n",
    "data = utils.adas(data, '../adni/ADAS_ADNIGO23.csv', 90)\n",
    "data = utils.cdr(data, '../adni/CDR.csv', 90)\n",
    "data = utils.mmse(data, '../adni/MMSE.csv', 90)\n",
    "data = utils.mem(data, '../adni/UWNPSYCHSUM_02_22_17.csv', 90)\n",
    "data = utils.demo(data, '../adni/PTDEMOG.csv')\n",
    "data = utils.apoe(data, '../adni/APOERES.csv')\n",
    "data = utils.vol(data, '../adni/ROIs.csv', '../adni/UCSFFSX51_DICT_08_01_14.csv', '../adni/UCSFFSX51_08_01_16.csv', 90)\n",
    "data = utils.rearrange_col(data)\n",
    "hc, mci, ad = utils.zscore(data)"
   ]
  },
  {
   "cell_type": "code",
   "execution_count": 3,
   "metadata": {},
   "outputs": [
    {
     "name": "stdout",
     "output_type": "stream",
     "text": [
      "Total: 356; 50% are AB+, 50% are AB-\n"
     ]
    }
   ],
   "source": [
    "test_set, validation_set, training_set = utils.split_data(mci, export=True)"
   ]
  }
 ],
 "metadata": {
  "kernelspec": {
   "display_name": "Python 3",
   "language": "python",
   "name": "python3"
  },
  "language_info": {
   "codemirror_mode": {
    "name": "ipython",
    "version": 3
   },
   "file_extension": ".py",
   "mimetype": "text/x-python",
   "name": "python",
   "nbconvert_exporter": "python",
   "pygments_lexer": "ipython3",
   "version": "3.6.1"
  }
 },
 "nbformat": 4,
 "nbformat_minor": 2
}
